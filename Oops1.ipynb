{
  "nbformat": 4,
  "nbformat_minor": 0,
  "metadata": {
    "colab": {
      "provenance": []
    },
    "kernelspec": {
      "name": "python3",
      "display_name": "Python 3"
    },
    "language_info": {
      "name": "python"
    }
  },
  "cells": [
    {
      "cell_type": "code",
      "execution_count": null,
      "metadata": {
        "colab": {
          "base_uri": "https://localhost:8080/"
        },
        "id": "lWNiywxXzxuF",
        "outputId": "712fef65-ab51-4f5a-a4a2-6a39bc5c87a4"
      },
      "outputs": [
        {
          "output_type": "stream",
          "name": "stdout",
          "text": [
            "Customer Details: \n",
            "Name: Sanyogita Singh\n",
            "Account Number: 2345\n",
            "Balnce: $1000\n",
            "\n"
          ]
        }
      ],
      "source": [
        "#1. Create a class representing a bank account with attributes like account number, account holder name, and balance.Implement methods to deposit and withdraw money from the account.\n",
        "\n",
        "class BankAccount:\n",
        "    def __init__(self, account_number, balance, account_holder):\n",
        "        self.account_number = account_number\n",
        "        self.balance = balance\n",
        "        self.account_holder = account_holder\n",
        "    def deposit(self, amount):\n",
        "        self.balance += amount\n",
        "        print(f\"${amount} has been deposited in your account.\")\n",
        "    def withdraw(self, amount):\n",
        "        if amount > self.balance:\n",
        "           print(\"Insufficient balance\")\n",
        "        else:\n",
        "           self.balance -= amount\n",
        "           print(f\"${amount} has been withdrawn from your account\")\n",
        "    def check_balance(self):\n",
        "        print(f\"Current balance is${self.balance}.\")\n",
        "    def print_customer_details(self):\n",
        "        print(\"Name:\", self.account_holder)\n",
        "        print(\"Account Number:\", self.account_number)\n",
        "        print(f\"Balnce: ${self.balance}\\n\")\n",
        "ac_no_1 = BankAccount(2345, 1000, \"Sanyogita Singh\")\n",
        "print(\"Customer Details: \")\n",
        "ac_no_1.print_customer_details()"
      ]
    },
    {
      "cell_type": "code",
      "source": [
        "#2. Create a class representing an employee with attributes like employee ID, name, and salary. Implement methods to calculate the yearly bonus and display employee datails\n",
        "\n",
        "class Employee:\n",
        "    def  __init__(self, name, emp_id, salary):\n",
        "      self.name = name\n",
        "      self.id = emp_id\n",
        "      self.salary = salary\n",
        "    def calculate_salary(self, salary, hours_worked):\n",
        "      overtime = 0\n",
        "      if hours_worked > 50:\n",
        "        overtime = hours_worked - 50\n",
        "      self.salary = self.salary + (overtime * (self.salary / 50))\n",
        "    def print_employee_details(self):\n",
        "      print(\"\\nName: \", self.name)\n",
        "      print(\"ID: \", self.id)\n",
        "      print(\"Salary: \", self.salary)\n",
        "employee1 = Employee(\"Sanyogita Singh\", \"E3456\", 40000)\n",
        "employee2 = Employee(\"Manan Singh\", \"E5678\", 50000)\n",
        "print(\"Original Employee Details: \")\n",
        "employee1.print_employee_details()\n",
        "employee2.print_employee_details()"
      ],
      "metadata": {
        "colab": {
          "base_uri": "https://localhost:8080/"
        },
        "id": "DjxYlMra0t3w",
        "outputId": "710cbdf1-e08e-4d04-a74b-87e8c95b59f8"
      },
      "execution_count": null,
      "outputs": [
        {
          "output_type": "stream",
          "name": "stdout",
          "text": [
            "Original Employee Details: \n",
            "\n",
            "Name:  Sanyogita Singh\n",
            "ID:  E3456\n",
            "Salary:  40000\n",
            "\n",
            "Name:  Manan Singh\n",
            "ID:  E5678\n",
            "Salary:  50000\n"
          ]
        }
      ]
    },
    {
      "cell_type": "code",
      "source": [
        "#3. Create a class representing a vehicle rental system. Implement methods to rent a vehicle, return a vehicle, and display available vehicles.\n",
        "\n",
        "class VehicleRentalSystem:\n",
        "  def __init__(self):\n",
        "    self.available_vehicles = ['Car', 'Bike', 'Van']\n",
        "  def display_vehicles(self):\n",
        "    print(\"Available vehicles: \")\n",
        "    for vehicle in self.available_vehicles:\n",
        "      print(vehicle)\n",
        "  def rent_vehicle(self, vehicle):\n",
        "    if vehicle in self.available_vehicles:\n",
        "      self.available_vehicles.remove(vehicle)\n",
        "      print(f\"You have rented a {vehicle}\")\n",
        "    else:\n",
        "      print(f\"Sorry, the{vehicle} is not available\")\n",
        "  def return_vehicle(self,vehicle):\n",
        "    self.available_vehicles.append(vehicle)\n",
        "    print(f\"You have returned the {vehicle}\")\n",
        "rental_system = VehicleRentalSystem()\n",
        "rental_system.display_vehicles()\n",
        "rental_system.rent_vehicle('Car')\n",
        "rental_system.display_vehicles()\n",
        "rental_system.return_vehicle('Car')\n",
        "rental_system.display_vehicles()"
      ],
      "metadata": {
        "id": "4PJnA5Ig1Z5c",
        "colab": {
          "base_uri": "https://localhost:8080/"
        },
        "outputId": "39231044-bda0-4038-e453-96761e15b260"
      },
      "execution_count": 18,
      "outputs": [
        {
          "output_type": "stream",
          "name": "stdout",
          "text": [
            "Available vehicles: \n",
            "Car\n",
            "Bike\n",
            "Van\n",
            "You have rented a Car\n",
            "Available vehicles: \n",
            "Bike\n",
            "Van\n",
            "You have returned the Car\n",
            "Available vehicles: \n",
            "Bike\n",
            "Van\n",
            "Car\n"
          ]
        }
      ]
    },
    {
      "cell_type": "code",
      "source": [
        "#4. Create a classes representing a library and a book. Implement methods to add books to the library, borrow books, and dispaly available books\n",
        "\n",
        "class Library:\n",
        "  def __init__(self):\n",
        "    self.books = [\"Freedom\", \"Love\", \"Independent India\"]\n",
        "  def add_book(self, new_book):\n",
        "    self.books.append(new_book)\n",
        "    print(self.books)\n",
        "  def display_books(self):\n",
        "    if self.books:\n",
        "      print(\"The books we have made availablein our library are:\\n\")\n",
        "      for book in self.books:\n",
        "        print(book)\n",
        "    else:\n",
        "      print(\"Sorry! we have no books available in the libraryat the moment\")\n",
        "  def lend_book(self, request_book):\n",
        "    if requested_book in self.books:\n",
        "      print(\"You have now borrowed \\\"%s\\\" \" % requested_book)\n",
        "      self.books.remove(requested_book)\n",
        "    else:\n",
        "      print(\"Sorry, \\\"%s\\\" is not there in our library at the moment\" % requested_book)\n",
        "books = Library()\n",
        "print(\"Books available in library: \")\n",
        "books.add_book(\"Twilight\")"
      ],
      "metadata": {
        "id": "Q_1jkYHY2DEB",
        "colab": {
          "base_uri": "https://localhost:8080/"
        },
        "outputId": "c7e67a21-3fec-43c2-fe72-dee86ac6d669"
      },
      "execution_count": null,
      "outputs": [
        {
          "output_type": "stream",
          "name": "stdout",
          "text": [
            "Books available in library: \n",
            "['Freedom', 'Love', 'Independent India', 'Twilight']\n"
          ]
        }
      ]
    },
    {
      "cell_type": "code",
      "source": [
        "#5. Create classes representing a product and an inventory system. Implement methods to add products to the inventory, update product quantity, and display available products.\n",
        "\n",
        "class Inventory:\n",
        "  def __init__(self):\n",
        "    self.inventory = {}\n",
        "  def add_item(self, item_id, item_name, stock_count, price):\n",
        "    self.inventory[item_id] = {\"item_name\": item_name, \"stock_count\": stock_count, \"price\": price}\n",
        "  def update_item(self, item_id, stock_count, price):\n",
        "    if item_id in self.inventory:\n",
        "      self.inventory[item_id][\"stock_count\"] = stock_count\n",
        "      self.inventory[item_id][\"price\"] = price\n",
        "    else:\n",
        "      print(\"Item not found in inventory\")\n",
        "  def check_item_details(self, item_id):\n",
        "    if item_id in self.inventory:\n",
        "      item = self.inventory[item_id]\n",
        "      return f\"Product Name: {item['item_name']}, Stock Count: {item['stock_count']}, Price: {item['price']}\"\n",
        "    else:\n",
        "      return \"Item not foundin inventory\"\n",
        "inventory = Inventory()\n",
        "inventory.add_item(\"I001\", \"Laptop\", 100, 500.00)\n",
        "print(\"Item Details: \")\n",
        "print(inventory.check_item_details(\"I001\"))\n",
        "print(\"\\nUpdate the price of item code - ''I001':\")\n",
        "inventory.update_item(\"I001\", 100, 505.00)"
      ],
      "metadata": {
        "id": "PKiDSYjM2gA8",
        "colab": {
          "base_uri": "https://localhost:8080/"
        },
        "outputId": "e215d5af-bfc3-40cd-afcc-9fb8693c0d5b"
      },
      "execution_count": null,
      "outputs": [
        {
          "output_type": "stream",
          "name": "stdout",
          "text": [
            "Item Details: \n",
            "Product Name: Laptop, Stock Count: 100, Price: 500.0\n",
            "\n",
            "Update the price of item code - ''I001':\n"
          ]
        }
      ]
    },
    {
      "cell_type": "code",
      "source": [
        "#6. Create a class representing a shape with attributes like length, width, and height. Implement methods to calculate the area and perimeter of the shape\n",
        "\n",
        "import math\n",
        "class Shape:\n",
        "  def calculate_area(self):\n",
        "    pass\n",
        "  def calculate_perimater(self):\n",
        "    pass\n",
        "class Circle(Shape):\n",
        "  def __init__(self, radius):\n",
        "    self.radius = radius\n",
        "  def calculate_area(self):\n",
        "    return math.pi * self.radius ** 2\n",
        "  def calculate_perimeter(self):\n",
        "    return 2 * math.pi * self.radius\n",
        "class Rectangle(Shape):\n",
        "  def __init__(self, length, width):\n",
        "    self.length = length\n",
        "    self.width = width\n",
        "  def calculate_area(self):\n",
        "    return self.length * self.width\n",
        "  def calculate_perimeter(self):\n",
        "    return 2 * (self.length + self.width)\n",
        "class Triangle(Shape):\n",
        "  def __init__(self, base, height, side1, side2, side3):\n",
        "      self.base = base\n",
        "      self.height = height\n",
        "      self.side1 = side1\n",
        "      self.side2 = side2\n",
        "      self.side3 = side3\n",
        "  def calculate_area(self):\n",
        "    return 0.5 * self.base * self.height\n",
        "  def calculate_perimeter(self):\n",
        "    return self.side1 + self.side2 + self.side3\n",
        "r = 7\n",
        "circle = Circle(r)\n",
        "circle_area = circle.calculate_area()\n",
        "circle_perimeter = circle.calculate_perimeter()\n",
        "print(\"Radius of the circle: \", r)\n",
        "print(\"Circle Area: \", circle_area)\n",
        "print(\"Circle Perimeter: \", circle_perimeter)"
      ],
      "metadata": {
        "id": "4NnMP-mB3K-U",
        "colab": {
          "base_uri": "https://localhost:8080/"
        },
        "outputId": "2913e2e2-672a-4390-a959-13b9445e41a9"
      },
      "execution_count": null,
      "outputs": [
        {
          "output_type": "stream",
          "name": "stdout",
          "text": [
            "Radius of the circle:  7\n",
            "Circle Area:  153.93804002589985\n",
            "Circle Perimeter:  43.982297150257104\n"
          ]
        }
      ]
    },
    {
      "cell_type": "code",
      "source": [
        "#7. Create a class representing a student with attributes like student ID, name, and grades. Implement methods to calculate the average grade and display student details.\n",
        "\n",
        "class Student:\n",
        "  def __init__(self, name, student_ID, m1, m2):\n",
        "    self.name = name\n",
        "    self.student_ID = student_ID\n",
        "    self.m1 = m1\n",
        "    self.m2 = m2\n",
        "  def accept(self, Name, Student_ID, marks1, marks2):\n",
        "    ob = Student(Name, Student_ID, marks1, marks2)\n",
        "    ls.append(ob)\n",
        "  def display(self, ob):\n",
        "    print(\"Name: \", ob.name)\n",
        "    print(\"Student_ID: \", ob.student_ID)\n",
        "    print(\"Marks1: \", ob.m1)\n",
        "    print(\"Marks2: \", ob.m2)\n",
        "    print(\"\\n\")\n",
        "  def search(self, rn):\n",
        "    for i in range(ls.__len__()):\n",
        "      if(ls[i].student_ID == rn):\n",
        "        return i\n",
        "  def delete(self, rn):\n",
        "    i = obj.search(rn)\n",
        "    del ls[i]\n",
        "  def update(self, rn, No):\n",
        "    i = obj.search(rn)\n",
        "    roll = No\n",
        "    ls[i].student_ID = roll\n",
        "ls = []\n",
        "obj = Student('', 0, 0, 0)\n",
        "print(\"\\nOperations used, \")\n",
        "print(\"\\n1.Accept Student detail\\n2.Display StudentDetails\\n3.Search Detailsof a student\\n4.Delete Detailsof Student\\n5.Update Student Details\\n6.Exit\")\n",
        "obj.accept(\"A\", 1, 100, 100)\n",
        "obj.accept(\"B\", 2, 90, 90)\n",
        "obj.accept(\"C\", 3, 80, 80)\n",
        "print(\"\\n\")\n",
        "print(\"\\nList of Students\\n\")\n",
        "for i in range(ls.__len__()):\n",
        "  obj.display(ls[i])\n",
        "print(\"\\n Student Founds \")\n",
        "s = obj.search(2)\n",
        "obj.display(ls[s])"
      ],
      "metadata": {
        "id": "pT8mhUHd3zxm",
        "colab": {
          "base_uri": "https://localhost:8080/"
        },
        "outputId": "f2ed7106-5972-40b0-c272-14a535a746b2"
      },
      "execution_count": null,
      "outputs": [
        {
          "output_type": "stream",
          "name": "stdout",
          "text": [
            "\n",
            "Operations used, \n",
            "\n",
            "1.Accept Student detail\n",
            "2.Display StudentDetails\n",
            "3.Search Detailsof a student\n",
            "4.Delete Detailsof Student\n",
            "5.Update Student Details\n",
            "6.Exit\n",
            "\n",
            "\n",
            "\n",
            "List of Students\n",
            "\n",
            "Name:  A\n",
            "Student_ID:  1\n",
            "Marks1:  100\n",
            "Marks2:  100\n",
            "\n",
            "\n",
            "Name:  B\n",
            "Student_ID:  2\n",
            "Marks1:  90\n",
            "Marks2:  90\n",
            "\n",
            "\n",
            "Name:  C\n",
            "Student_ID:  3\n",
            "Marks1:  80\n",
            "Marks2:  80\n",
            "\n",
            "\n",
            "\n",
            " Student Founds \n",
            "Name:  B\n",
            "Student_ID:  2\n",
            "Marks1:  90\n",
            "Marks2:  90\n",
            "\n",
            "\n"
          ]
        }
      ]
    },
    {
      "cell_type": "code",
      "source": [
        "#8. Create a class representing an email with attributeslike sender, recipient, and subject. Implement methods to send an email and display email details\n",
        "\n",
        "class gmail_ops:\n",
        "  def __init__(self, user_id, password):\n",
        "    self.user_id = user_id\n",
        "    self.password = password\n",
        "    self.url = \"https://mail.google.com/mail/u/1\"\n",
        "  def sender(self):\n",
        "    print(\"take user_id\" + \"take password\" + self.password + \"hit url\" + self.url)\n",
        "    print(\"Login\")\n",
        "    print(str(input(\"Enter to whom you want to sent the message: \")))\n",
        "  def recipient(self):\n",
        "    print(\"Send mail to\" + self.userid + \" \" + self.password)\n",
        "  def subject(self):\n",
        "    print(\"Subject of mail\" + self.user_id + \" \" + self.password)\n",
        "user1 = gmail_ops(\"user1\", \"user1pass\")\n",
        "user1.sender()"
      ],
      "metadata": {
        "id": "ox8uXl-Q4y5s",
        "colab": {
          "base_uri": "https://localhost:8080/"
        },
        "outputId": "ae4805b4-3432-4cf8-94cb-16507a25405c"
      },
      "execution_count": null,
      "outputs": [
        {
          "output_type": "stream",
          "name": "stdout",
          "text": [
            "take user_idtake passworduser1passhit urlhttps://mail.google.com/mail/u/1\n",
            "Login\n",
            "Enter to whom you want to sent the message: Kallu\n",
            "Kallu\n"
          ]
        }
      ]
    },
    {
      "cell_type": "code",
      "source": [
        "#9. Create a class representing a social media profile with attributes like username and posts. Implement methods to add posts, display posts, and search for posts by keyword\n",
        "\n",
        "class SocialMedia:\n",
        "  def __init__(self, user_id, password):\n",
        "     self.user_id = user_id\n",
        "     self.password = password\n",
        "     self.url = \"https://facebook.google.com/u/7/y\"\n",
        "  def login(self):\n",
        "    print(\"take user_id\" + \"take password\" + self.user_id + self.password + \"hit url\" + self.url)\n",
        "    print(\"login\")\n",
        "  def add_post(self):\n",
        "    print(\"Post a picture\" + \"place you visited\" + \"Emoji\" + \"post_my_details\")\n",
        "    print(\"posted\")\n",
        "  def display_post(self):\n",
        "    print(\"post_my_details\" + \"Likes\" + \"Comments\")\n",
        "  def search_for_posts(self):\n",
        "    print(str(input(\"Posts you want to search: \")))\n",
        "    print(\"Available posts:\")\n",
        "user1 = SocialMedia('user1', 'password')\n",
        "user1.search_for_posts()"
      ],
      "metadata": {
        "id": "ozBhWqG85QQF",
        "colab": {
          "base_uri": "https://localhost:8080/"
        },
        "outputId": "66cca147-56a6-4dc6-9aa2-36b990e6cc2c"
      },
      "execution_count": null,
      "outputs": [
        {
          "output_type": "stream",
          "name": "stdout",
          "text": [
            "Posts you want to search: Beautiful places in India\n",
            "Beautiful places in India\n",
            "Available posts:\n"
          ]
        }
      ]
    },
    {
      "cell_type": "code",
      "source": [
        "#10. Create a class representing a todo list with attributes like tasks and due dates. Implement methods to add tasks, mark tasks as completed, and display pending tasks.\n",
        "\n",
        "class To_Do_list:\n",
        "  def __init__(self):\n",
        "    self.tasks = {}\n",
        "  def add_task(self, task, due_date):\n",
        "    self.tasks[task] = {\"due_date\":due_date,\"completed\":False}\n",
        "  def mark_as_completed(self, task):\n",
        "    if task in self.tasks:\n",
        "      self.tasks[task][\"completed\"] = True\n",
        "    else:\n",
        "      print(\"Task not found in the list\")\n",
        "  def display_pending_tasks(self):\n",
        "    print(\"Pending\")\n",
        "    for task, details in self.tasks.items():\n",
        "      if not details[\"completed\"]:\n",
        "          print(f\"Task : {task}, Due Date : {details['due_date']}\")\n",
        "todo = To_Do_list()\n",
        "todo.add_task(\"Buy groceries\",\"2023-04-30\")\n",
        "todo.add_task(\"Finish project\",\"2023-05-01\")\n",
        "todo.display_pending_tasks()\n",
        "todo.mark_as_completed(\"Buy groceries\")\n",
        "todo.display_pending_tasks()"
      ],
      "metadata": {
        "id": "hLCGl3oM52ab",
        "colab": {
          "base_uri": "https://localhost:8080/"
        },
        "outputId": "b0a6c8e2-7a7a-43b2-af1d-595430218740"
      },
      "execution_count": 16,
      "outputs": [
        {
          "output_type": "stream",
          "name": "stdout",
          "text": [
            "Pending\n",
            "Task : Buy groceries, Due Date : 2023-04-30\n",
            "Task : Finish project, Due Date : 2023-05-01\n",
            "Pending\n",
            "Task : Finish project, Due Date : 2023-05-01\n"
          ]
        }
      ]
    }
  ]
}